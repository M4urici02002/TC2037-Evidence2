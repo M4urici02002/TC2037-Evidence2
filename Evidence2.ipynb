{
  "nbformat": 4,
  "nbformat_minor": 0,
  "metadata": {
    "colab": {
      "provenance": [],
      "authorship_tag": "ABX9TyPrpklaULyC4XepEmbXD9NO",
      "include_colab_link": true
    },
    "kernelspec": {
      "name": "python3",
      "display_name": "Python 3"
    },
    "language_info": {
      "name": "python"
    }
  },
  "cells": [
    {
      "cell_type": "markdown",
      "metadata": {
        "id": "view-in-github",
        "colab_type": "text"
      },
      "source": [
        "<a href=\"https://colab.research.google.com/github/M4urici02002/TC2037-Evidence2/blob/main/Evidence2.ipynb\" target=\"_parent\"><img src=\"https://colab.research.google.com/assets/colab-badge.svg\" alt=\"Open In Colab\"/></a>"
      ]
    },
    {
      "cell_type": "code",
      "execution_count": 4,
      "metadata": {
        "colab": {
          "base_uri": "https://localhost:8080/"
        },
        "id": "e5L0VlC2WAXp",
        "outputId": "0c8d8853-4060-4d02-c4a1-c98dfc3d621c"
      },
      "outputs": [
        {
          "output_type": "stream",
          "name": "stderr",
          "text": [
            "[nltk_data] Downloading package punkt to /root/nltk_data...\n",
            "[nltk_data]   Package punkt is already up-to-date!\n"
          ]
        },
        {
          "name": "stdout",
          "output_type": "stream",
          "text": [
            "Please enter a sentence (or type 'exit' to quit): la niña salta en la ciudad\n",
            "\n",
            "Trying to parse: la niña salta en la ciudad\n",
            "                    S                        \n",
            "      ______________|______________________   \n",
            "     |                  VP                 | \n",
            "     |          ________|___               |  \n",
            "     |         |            PP             | \n",
            "     |         |     _______|___           |  \n",
            "     NP        |    |           NP         | \n",
            "  ___|___      |    |        ___|____      |  \n",
            "Det      N     V    P      Det       N     SP\n",
            " |       |     |    |       |        |     |  \n",
            " la     niña salta  en      la     ciudad ...\n",
            "\n",
            "The sentence is valid.\n",
            "Please enter a sentence (or type 'exit' to quit): la niña salta en la ciudad y el niño corre lentamente en el parque\n",
            "\n",
            "Trying to parse: la niña salta en la ciudad y el niño corre lentamente en el parque\n",
            "Sentence is invalid.\n",
            "Please enter a sentence (or type 'exit' to quit): el niño corre lentamente\n",
            "\n",
            "Trying to parse: el niño corre lentamente\n",
            "               S                     \n",
            "      _________|___________________   \n",
            "     NP             VP             | \n",
            "  ___|___       ____|______        |  \n",
            "Det      N     V          Adv      SP\n",
            " |       |     |           |       |  \n",
            " el     niño corre     lentamente ...\n",
            "\n",
            "The sentence is valid.\n",
            "Please enter a sentence (or type 'exit' to quit): el niño corre lentamente en el parque\n",
            "\n",
            "Trying to parse: el niño corre lentamente en el parque\n",
            "Sentence is invalid.\n",
            "Please enter a sentence (or type 'exit' to quit): el niño corre sobre la ciudad\n",
            "\n",
            "Trying to parse: el niño corre sobre la ciudad\n",
            "                     S                         \n",
            "      _______________|_______________________   \n",
            "     |                    VP                 | \n",
            "     |          __________|___               |  \n",
            "     |         |              PP             | \n",
            "     |         |      ________|___           |  \n",
            "     NP        |     |            NP         | \n",
            "  ___|___      |     |         ___|____      |  \n",
            "Det      N     V     P       Det       N     SP\n",
            " |       |     |     |        |        |     |  \n",
            " el     niño corre sobre      la     ciudad ...\n",
            "\n",
            "The sentence is valid.\n",
            "Please enter a sentence (or type 'exit' to quit): exit\n"
          ]
        }
      ],
      "source": [
        "# Import the necessary modules from nltk\n",
        "import nltk\n",
        "from nltk import CFG\n",
        "from nltk.tokenize import word_tokenize\n",
        "from nltk.tree import Tree  # Import Tree to use for pretty printing\n",
        "nltk.download('punkt')  # Ensure the tokenizer models are downloaded\n",
        "\n",
        "# Define the grammar\n",
        "grammar = CFG.fromstring(\"\"\"\n",
        "  S -> NP VP SP | S Conj S\n",
        "  SP -> Conj S |\n",
        "  NP -> Det N | Det AP N | Pron | NP PP | NP Conj NP\n",
        "  VP -> V NP | V PP | VP Conj VP | V Adv | V S | V NP PP\n",
        "  PP -> P NP\n",
        "  AP -> Adj AP | Adj\n",
        "  Det -> 'el' | 'la' | 'los' | 'las' | 'un' | 'una'\n",
        "  N -> 'niño' | 'niña' | 'libro' | 'ciudad' | 'parque' | 'mesa' | 'cine'\n",
        "  P -> 'en' | 'sobre' | 'bajo' | 'contra' | 'al'\n",
        "  Pron -> 'él' | 'ella' | 'ellos' | 'ellas' | 'lo' | 'la' | 'le'\n",
        "  V -> 'corre' | 'salta' | 'piensa' | 'cree' | 'ha' | 'están' | 'van' | 'es'\n",
        "  Adj -> 'alegre' | 'triste' | 'grande' | 'pequeño' | 'interesante'\n",
        "  Adv -> 'rápidamente' | 'lentamente' | 'ayer' | 'hoy'\n",
        "  Conj -> 'y' | 'o' | 'pero' | 'porque' | 'que'\n",
        "\"\"\")\n",
        "\n",
        "# Create a parser\n",
        "parser = nltk.ChartParser(grammar)\n",
        "\n",
        "# Function to parse and validate a sentence\n",
        "def parse_and_validate(sentence):\n",
        "    tokens = word_tokenize(sentence, language='spanish')  # Tokenize the input sentence\n",
        "    parsed = False\n",
        "    print(\"\\nTrying to parse:\", sentence)\n",
        "    try:\n",
        "        for tree in parser.parse(tokens):\n",
        "            tree.pretty_print()  # Use pretty_print to display the tree\n",
        "            parsed = True\n",
        "    except ValueError as e:\n",
        "        print(e)\n",
        "\n",
        "    if parsed:\n",
        "        print(\"The sentence is valid.\")\n",
        "    else:\n",
        "        print(\"Sentence is invalid.\")\n",
        "\n",
        "# Loop to allow user input\n",
        "while True:\n",
        "    user_input = input(\"Please enter a sentence (or type 'exit' to quit): \")\n",
        "    if user_input.lower() == 'exit':\n",
        "        break\n",
        "    parse_and_validate(user_input)"
      ]
    }
  ]
}