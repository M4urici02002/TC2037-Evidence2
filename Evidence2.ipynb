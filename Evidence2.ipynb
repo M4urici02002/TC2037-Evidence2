{
  "cells": [
    {
      "cell_type": "markdown",
      "metadata": {
        "id": "view-in-github",
        "colab_type": "text"
      },
      "source": [
        "<a href=\"https://colab.research.google.com/github/M4urici02002/TC2037-Evidence2/blob/main/Evidence2.ipynb\" target=\"_parent\"><img src=\"https://colab.research.google.com/assets/colab-badge.svg\" alt=\"Open In Colab\"/></a>"
      ]
    },
    {
      "cell_type": "code",
      "execution_count": 3,
      "metadata": {
        "colab": {
          "base_uri": "https://localhost:8080/"
        },
        "id": "e5L0VlC2WAXp",
        "outputId": "3ef1246e-3d32-44fe-a054-9c45dee10eb6"
      },
      "outputs": [
        {
          "output_type": "stream",
          "name": "stderr",
          "text": [
            "[nltk_data] Downloading package punkt to /root/nltk_data...\n",
            "[nltk_data]   Package punkt is already up-to-date!\n"
          ]
        },
        {
          "name": "stdout",
          "output_type": "stream",
          "text": [
            "Please enter a sentence 'exit' to quit: él y ella están en la ciudad\n",
            "\n",
            "Spanish sentence that is parsing: él y ella están en la ciudad\n",
            "                 S                             \n",
            "       __________|___________________________   \n",
            "      |                   VP                 | \n",
            "      |           ________|___               |  \n",
            "      NP         |            PP             | \n",
            "  ____|____      |     _______|___           |  \n",
            " NP   |    NP    |    |           NP         | \n",
            " |    |    |     |    |        ___|____      |  \n",
            "Pron Conj Pron   V    P      Det       N     SP\n",
            " |    |    |     |    |       |        |     |  \n",
            " él   y   ella están  en      la     ciudad ...\n",
            "\n",
            "The sentence is valid.\n",
            "Please enter a sentence 'exit' to quit: la niña lee el libro\n",
            "\n",
            "Spanish sentence that is parsing: la niña lee el libro\n",
            "              S                   \n",
            "      ________|_________________   \n",
            "     |            VP            | \n",
            "     |         ___|___          |  \n",
            "     NP       |       NP        | \n",
            "  ___|___     |    ___|____     |  \n",
            "Det      N    V  Det       N    SP\n",
            " |       |    |   |        |    |  \n",
            " la     niña lee  el     libro ...\n",
            "\n",
            "The sentence is valid.\n",
            "Please enter a sentence 'exit' to quit: la niña lee sobre la mesa \n",
            "\n",
            "Spanish sentence that is parsing: la niña lee sobre la mesa \n",
            "                   S                       \n",
            "      _____________|_____________________   \n",
            "     |                  VP               | \n",
            "     |         _________|___             |  \n",
            "     |        |             PP           | \n",
            "     |        |     ________|___         |  \n",
            "     NP       |    |            NP       | \n",
            "  ___|___     |    |         ___|___     |  \n",
            "Det      N    V    P       Det      N    SP\n",
            " |       |    |    |        |       |    |  \n",
            " la     niña lee sobre      la     mesa ...\n",
            "\n",
            "The sentence is valid.\n",
            "Please enter a sentence 'exit' to quit: la niña lee sobre la mesa y el niño corre lentamente\n",
            "\n",
            "Spanish sentence that is parsing: la niña lee sobre la mesa y el niño corre lentamente\n",
            "                                    S                                             \n",
            "      ______________________________|_________________                             \n",
            "     |                  VP                            SP                          \n",
            "     |         _________|___              ____________|_____                       \n",
            "     |        |             PP           |                  S                     \n",
            "     |        |     ________|___         |         _________|___________________   \n",
            "     NP       |    |            NP       |        NP             VP             | \n",
            "  ___|___     |    |         ___|___     |     ___|___       ____|______        |  \n",
            "Det      N    V    P       Det      N   Conj Det      N     V          Adv      SP\n",
            " |       |    |    |        |       |    |    |       |     |           |       |  \n",
            " la     niña lee sobre      la     mesa  y    el     niño corre     lentamente ...\n",
            "\n",
            "The sentence is valid.\n",
            "Please enter a sentence 'exit' to quit: corre el niño rapidamente \n",
            "\n",
            "Spanish sentence that is parsing: corre el niño rapidamente \n",
            "Grammar does not cover some of the input words: \"'rapidamente'\".\n",
            "Sentence is invalid.\n",
            "Please enter a sentence 'exit' to quit: la ciudad sobre el libro\n",
            "\n",
            "Spanish sentence that is parsing: la ciudad sobre el libro\n",
            "Sentence is invalid.\n",
            "Please enter a sentence 'exit' to quit: el niño salta pero es triste\n",
            "\n",
            "Spanish sentence that is parsing: el niño salta pero es triste\n",
            "Sentence is invalid.\n",
            "Please enter a sentence 'exit' to quit: exit\n"
          ]
        }
      ],
      "source": [
        "# Import necessary modules from nltk for natural language processing\n",
        "import nltk\n",
        "from nltk import CFG  # Context-Free Grammar module for defining grammars\n",
        "from nltk.tokenize import word_tokenize  # Tokenization function to split text into tokens\n",
        "from nltk.tree import Tree  # Import Tree for enhanced visual representation of parse trees\n",
        "nltk.download('punkt')  # Ensure the 'punkt' tokenizer models are downloaded for tokenization\n",
        "\n",
        "# Define the grammar using a multi-line string\n",
        "# This grammar defines how sentences in Spanish can be structured syntactically\n",
        "grammar = CFG.fromstring(\"\"\"\n",
        "  S -> NP VP SP\n",
        "  SP -> Conj S |\n",
        "  NP -> Det N | Det AP N | Pron | NP PP | NP Conj NP\n",
        "  VP -> V NP | V PP | VP Conj VP | V Adv | V S | V NP PP\n",
        "  PP -> P NP\n",
        "  AP -> Adj AP | Adj\n",
        "  Det -> 'el' | 'la' | 'los' | 'las' | 'un' | 'una'\n",
        "  N -> 'niño' | 'niña' | 'libro' | 'ciudad' | 'parque' | 'mesa' | 'cine'\n",
        "  P -> 'en' | 'sobre' | 'bajo' | 'contra' | 'al'\n",
        "  Pron -> 'él' | 'ella' | 'ellos' | 'ellas' | 'lo' | 'la' | 'le'\n",
        "  V -> 'corre' | 'salta' | 'piensa' | 'cree' | 'ha' | 'están' | 'van' | 'es' | 'lee'\n",
        "  Adj -> 'alegre' | 'triste' | 'grande' | 'pequeño' | 'interesante'\n",
        "  Adv -> 'rápidamente' | 'lentamente' | 'ayer' | 'hoy'\n",
        "  Conj -> 'y' | 'o' | 'pero' | 'porque' | 'que'\n",
        "\"\"\")\n",
        "\n",
        "# Create a parser instance from the defined grammar using NLTK's ChartParser\n",
        "parser = nltk.ChartParser(grammar)\n",
        "\n",
        "# Function to parse and validate a sentence according to the defined grammar\n",
        "def parse_and_validate(sentence):\n",
        "    # Tokenize the input sentence using NLTK's word_tokenize, set to Spanish for correct tokenization of Spanish text\n",
        "    tokens = word_tokenize(sentence, language='spanish')\n",
        "    parsed = False  # Initialize parsed status as False\n",
        "    print(\"\\nSpanish sentence that is parsing:\", sentence)\n",
        "    try:\n",
        "        # Attempt to parse the tokenized sentence, generating parse trees\n",
        "        for tree in parser.parse(tokens):\n",
        "            tree.pretty_print()  # Visually display the parse tree using pretty_print\n",
        "            parsed = True  # Set parsed status to True if at least one parse tree is generated\n",
        "    except ValueError as error:\n",
        "        print(error)\n",
        "\n",
        "    if parsed:\n",
        "        print(\"The sentence is valid.\")  # Sentence conforms to the grammar\n",
        "    else:\n",
        "        print(\"Sentence is invalid.\")  # No valid parse tree could be generated\n",
        "\n",
        "while True:\n",
        "    user_input = input(\"Please enter a sentence 'exit' to quit: \")\n",
        "    if user_input.lower() == 'exit':\n",
        "        break\n",
        "    parse_and_validate(user_input)  # Process the user input through the parse and validate function"
      ]
    },
    {
      "cell_type": "markdown",
      "source": [
        "# Sección nueva"
      ],
      "metadata": {
        "id": "hBG-Hm-DQHbq"
      }
    }
  ],
  "metadata": {
    "colab": {
      "provenance": [],
      "authorship_tag": "ABX9TyMKHq29o+UuORgd/uQdzoAC",
      "include_colab_link": true
    },
    "kernelspec": {
      "display_name": "Python 3",
      "name": "python3"
    },
    "language_info": {
      "name": "python"
    }
  },
  "nbformat": 4,
  "nbformat_minor": 0
}